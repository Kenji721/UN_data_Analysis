{
 "cells": [
  {
   "cell_type": "code",
   "execution_count": 1,
   "id": "b7793055",
   "metadata": {},
   "outputs": [
    {
     "name": "stderr",
     "output_type": "stream",
     "text": [
      "Matplotlib is building the font cache; this may take a moment.\n"
     ]
    }
   ],
   "source": [
    "import pandas as pd\n",
    "import warnings\n",
    "import matplotlib.pyplot as plt\n",
    "import seaborn as sns\n",
    "import numpy as np\n",
    "\n",
    "# Ignorar warnings\n",
    "warnings.filterwarnings('ignore')"
   ]
  },
  {
   "cell_type": "code",
   "execution_count": 16,
   "id": "d8c477e9",
   "metadata": {},
   "outputs": [],
   "source": [
    "df_general_info = pd.read_csv(\"/Users/saramiranda/Desktop/country_data_dsf_project/data/processed/general_info_clean.csv\")\n",
    "df_environmental_infrastructure = pd.read_csv(\"/Users/saramiranda/Desktop/country_data_dsf_project/data/processed/environment_infrastructure_clean.csv\")\n",
    "df_economic_indicators = pd.read_csv(\"/Users/saramiranda/Desktop/country_data_dsf_project/data/processed/economic_indicators_clean.csv\")\n",
    "df_social_indicators = pd.read_csv(\"/Users/saramiranda/Desktop/country_data_dsf_project/data/processed/social_indicators_clean.csv\")\n"
   ]
  },
  {
   "cell_type": "code",
   "execution_count": 13,
   "id": "bee0f05d",
   "metadata": {},
   "outputs": [
    {
     "name": "stdout",
     "output_type": "stream",
     "text": [
      "<class 'pandas.core.frame.DataFrame'>\n",
      "RangeIndex: 232 entries, 0 to 231\n",
      "Data columns (total 11 columns):\n",
      " #   Column                        Non-Null Count  Dtype  \n",
      "---  ------                        --------------  -----  \n",
      " 0   Country                       232 non-null    object \n",
      " 1   Capital city                  232 non-null    object \n",
      " 2   Exchange rate (per US$)       231 non-null    float64\n",
      " 3   National currency             231 non-null    object \n",
      " 4   Pop. density (per km2, 2024)  230 non-null    float64\n",
      " 5   Population (000, 2024)        230 non-null    float64\n",
      " 6   Region                        232 non-null    object \n",
      " 7   Sex ratio (m per 100 f)       230 non-null    float64\n",
      " 8   Surface area (km2)            226 non-null    float64\n",
      " 9   UN membership date            193 non-null    object \n",
      " 10  Capital_city_pop              231 non-null    float64\n",
      "dtypes: float64(6), object(5)\n",
      "memory usage: 20.1+ KB\n"
     ]
    }
   ],
   "source": [
    "df_general_info.info()"
   ]
  },
  {
   "cell_type": "code",
   "execution_count": 9,
   "id": "63af99ca",
   "metadata": {},
   "outputs": [
    {
     "name": "stdout",
     "output_type": "stream",
     "text": [
      "<class 'pandas.core.frame.DataFrame'>\n",
      "RangeIndex: 696 entries, 0 to 695\n",
      "Data columns (total 21 columns):\n",
      " #   Column                                                                                                   Non-Null Count  Dtype  \n",
      "---  ------                                                                                                   --------------  -----  \n",
      " 0   Country                                                                                                  696 non-null    object \n",
      " 1   Year                                                                                                     696 non-null    int64  \n",
      " 2   Energy production, primary (Petajoules)                                                                  656 non-null    float64\n",
      " 3   Energy supply per capita (Gigajoules)                                                                    668 non-null    float64\n",
      " 4   Forested area (% of land area)                                                                           690 non-null    float64\n",
      " 5   Important sites for terrestrial biodiversity protected (%)                                               678 non-null    float64\n",
      " 6   Individuals using the Internet (per 100 inhabitants)                                                     609 non-null    float64\n",
      " 7   Net Official Development Assist. disbursed (% of GNI)                                                    121 non-null    float64\n",
      " 8   Net Official Development Assist. received (% of GNI)                                                     400 non-null    float64\n",
      " 9   Research & Development expenditure (% of GDP)                                                            318 non-null    float64\n",
      " 10  Threatened species (number)                                                                              693 non-null    float64\n",
      " 11  Tourist/visitor arrivals at national borders (000)                                                       583 non-null    float64\n",
      " 12  CO2 emission estimates - Total (million tons)                                                            662 non-null    float64\n",
      " 13  CO2 emission estimates - Per capita (tons per capita)                                                    662 non-null    float64\n",
      " 14  CO2 emission estimates - Total/CO2 emission estimates - Per capita Ratio                                 662 non-null    float64\n",
      " 15  Pop. using safely managed drinking water - Urban (%)                                                     287 non-null    float64\n",
      " 16  Pop. using safely managed drinking water - Rural (%)                                                     229 non-null    float64\n",
      " 17  Pop. using safely managed drinking water - Urban/Pop. using safely managed drinking water - Rural Ratio  223 non-null    float64\n",
      " 18  Pop. using safely managed sanitation - Urban (%)                                                         350 non-null    float64\n",
      " 19  Pop. using safely managed sanitation - Rural (%)                                                         266 non-null    float64\n",
      " 20  Pop. using safely managed sanitation - Urban/Pop. using safely managed sanitation - Rural Ratio          248 non-null    float64\n",
      "dtypes: float64(19), int64(1), object(1)\n",
      "memory usage: 114.3+ KB\n"
     ]
    }
   ],
   "source": [
    "df_environmental_infrastructure.info()"
   ]
  },
  {
   "cell_type": "code",
   "execution_count": 10,
   "id": "5bb33ee2",
   "metadata": {},
   "outputs": [
    {
     "name": "stdout",
     "output_type": "stream",
     "text": [
      "<class 'pandas.core.frame.DataFrame'>\n",
      "RangeIndex: 687 entries, 0 to 686\n",
      "Data columns (total 21 columns):\n",
      " #   Column                                                                                 Non-Null Count  Dtype  \n",
      "---  ------                                                                                 --------------  -----  \n",
      " 0   Country                                                                                687 non-null    object \n",
      " 1   Year                                                                                   687 non-null    float64\n",
      " 2   Agricultural production index (2014-2016=100)                                          594 non-null    float64\n",
      " 3   Balance of payments, current account (million US$)                                     562 non-null    float64\n",
      " 4   CPI: Consumer Price Index (2010=100)                                                   586 non-null    float64\n",
      " 5   Economy: Agriculture (% of Gross Value Added)                                          621 non-null    float64\n",
      " 6   Economy: Industry (% of Gross Value Added)                                             630 non-null    float64\n",
      " 7   Economy: Services and other activity (% of GVA)                                        630 non-null    float64\n",
      " 8   Employment in agriculture (% of employed)                                              578 non-null    float64\n",
      " 9   Employment in industry (% of employed)                                                 579 non-null    float64\n",
      " 10  Employment in services (% employed)                                                    579 non-null    float64\n",
      " 11  GDP growth rate (annual %, const. 2015 prices)                                         630 non-null    float64\n",
      " 12  GDP per capita (current US$)                                                           630 non-null    float64\n",
      " 13  GDP: Gross domestic product (million current US$)                                      630 non-null    float64\n",
      " 14  International trade: balance (million current US$)                                     633 non-null    float64\n",
      " 15  International trade: exports (million current US$)                                     633 non-null    float64\n",
      " 16  International trade: imports (million current US$)                                     633 non-null    float64\n",
      " 17  Unemployment (% of labour force)                                                       586 non-null    float64\n",
      " 18  Labour force participation rate - Female (per 100 pop.)                                580 non-null    float64\n",
      " 19  Labour force participation rate - Male (per 100 pop.)                                  580 non-null    float64\n",
      " 20  Labour force participation rate - Female/Labour force participation rate - Male Ratio  580 non-null    float64\n",
      "dtypes: float64(20), object(1)\n",
      "memory usage: 112.8+ KB\n"
     ]
    }
   ],
   "source": [
    "df_economic_indicators.info()"
   ]
  },
  {
   "cell_type": "code",
   "execution_count": 11,
   "id": "be801a39",
   "metadata": {},
   "outputs": [
    {
     "name": "stdout",
     "output_type": "stream",
     "text": [
      "<class 'pandas.core.frame.DataFrame'>\n",
      "RangeIndex: 696 entries, 0 to 695\n",
      "Data columns (total 31 columns):\n",
      " #   Column                                                                                                   Non-Null Count  Dtype  \n",
      "---  ------                                                                                                   --------------  -----  \n",
      " 0   Country                                                                                                  696 non-null    object \n",
      " 1   Year                                                                                                     696 non-null    float64\n",
      " 2   Education: Government expenditure (% of GDP)                                                             459 non-null    float64\n",
      " 3   Fertility rate, total (live births per woman)                                                            690 non-null    float64\n",
      " 4   Health: Current expenditure (% of GDP)                                                                   568 non-null    float64\n",
      " 5   Health: Physicians (per 1 000 pop.)                                                                      475 non-null    float64\n",
      " 6   Intentional homicide rate (per 100 000 pop.)                                                             447 non-null    float64\n",
      " 7   Population growth rate (average annual %)                                                                690 non-null    float64\n",
      " 8   Refugees and others of concern to UNHCR (000)                                                            564 non-null    float64\n",
      " 9   Seats held by women in national parliaments (%)                                                          574 non-null    float64\n",
      " 10  Under five mortality rate (per 1000 live births)                                                         690 non-null    float64\n",
      " 11  Urban population (% of total population)                                                                 464 non-null    float64\n",
      " 12  Urban population growth rate (average annual %)                                                          232 non-null    float64\n",
      " 13  Education: Primary gross enrol. ratio - Female (per 100 pop.)                                            561 non-null    float64\n",
      " 14  Education: Primary gross enrol. ratio - Male (per 100 pop.)                                              561 non-null    float64\n",
      " 15  Education: Primary gross enrol. ratio - Female/Education: Primary gross enrol. ratio - Male Ratio        561 non-null    float64\n",
      " 16  Education: Upper Sec. gross enrol. ratio - Female (per 100 pop.)                                         517 non-null    float64\n",
      " 17  Education: Upper Sec. gross enrol. ratio - Male (per 100 pop.)                                           517 non-null    float64\n",
      " 18  Education: Upper Sec. gross enrol. ratio - Female/Education: Upper Sec. gross enrol. ratio - Male Ratio  517 non-null    float64\n",
      " 19  Education: Lower Sec. gross enrol. ratio - Female (per 100 pop.)                                         541 non-null    float64\n",
      " 20  Education: Lower Sec. gross enrol. ratio - Male (per 100 pop.)                                           538 non-null    float64\n",
      " 21  Education: Lower Sec. gross enrol. ratio - Female/Education: Lower Sec. gross enrol. ratio - Male Ratio  538 non-null    float64\n",
      " 22  International migrant stock (000)                                                                        464 non-null    float64\n",
      " 23  International migrant stock (% of total pop.)                                                            464 non-null    float64\n",
      " 24  International migrant stock/International migrant stock Ratio                                            464 non-null    float64\n",
      " 25  Life expectancy at birth - Female (years)                                                                690 non-null    float64\n",
      " 26  Life expectancy at birth - Male (years)                                                                  690 non-null    float64\n",
      " 27  Life expectancy at birth - Female/Life expectancy at birth - Male Ratio                                  690 non-null    float64\n",
      " 28  Population age distribution - 0-14 years (%)                                                             690 non-null    float64\n",
      " 29  Population age distribution - 60+ years (%)                                                              690 non-null    float64\n",
      " 30  Population age distribution - 0-14 years/Population age distribution - 60+ years Ratio                   690 non-null    float64\n",
      "dtypes: float64(30), object(1)\n",
      "memory usage: 168.7+ KB\n"
     ]
    }
   ],
   "source": [
    "df_social_indicators.info()"
   ]
  },
  {
   "cell_type": "code",
   "execution_count": 32,
   "id": "8682c6d9",
   "metadata": {},
   "outputs": [],
   "source": [
    "cols_a_evaluar = [\n",
    "    \"Country\",\n",
    "    \"Year\",\n",
    "    \"Fertility rate, total (live births per woman)\",\n",
    "    \"Health: Current expenditure (% of GDP)\",\n",
    "    \"Health: Physicians (per 1 000 pop.)\",\n",
    "    \"Under five mortality rate (per 1000 live births)\",\n",
    "    \"Urban population (% of total population)\",\n",
    "    \"Education: Government expenditure (% of GDP)\",\n",
    "    \"Education: Primary gross enrol. ratio - Female (per 100 pop.)\",\n",
    "    \"Education: Primary gross enrol. ratio - Male (per 100 pop.)\",\n",
    "    \"Education: Upper Sec. gross enrol. ratio - Female (per 100 pop.)\",\n",
    "    \"Education: Upper Sec. gross enrol. ratio - Male (per 100 pop.)\",\n",
    "    \"Education: Lower Sec. gross enrol. ratio - Female (per 100 pop.)\",\n",
    "    \"Education: Lower Sec. gross enrol. ratio - Male (per 100 pop.)\",\n",
    "    \"Population age distribution - 0-14 years (%)\",\n",
    "    \"Population age distribution - 60+ years (%)\",\n",
    "    \"Life expectancy at birth - Female (years)\",\n",
    "    \"Life expectancy at birth - Male (years)\",\n",
    "    \"Life expectancy at birth - Female/Life expectancy at birth - Male Ratio\",\n",
    "    \"Intentional homicide rate (per 100 000 pop.)\"\n",
    "]\n"
   ]
  },
  {
   "cell_type": "code",
   "execution_count": 30,
   "id": "262a310e",
   "metadata": {},
   "outputs": [
    {
     "name": "stdout",
     "output_type": "stream",
     "text": [
      "Table size (696, 19) \n",
      "\n",
      "       Country    Year  Fertility rate, total (live births per woman)  \\\n",
      "0  Afghanistan  2015.0                                            5.7   \n",
      "1  Afghanistan  2020.0                                            5.1   \n",
      "2  Afghanistan  2024.0                                            4.8   \n",
      "3      Albania  2015.0                                            1.6   \n",
      "4      Albania  2020.0                                            1.4   \n",
      "\n",
      "   Health: Current expenditure (% of GDP)  \\\n",
      "0                                    10.1   \n",
      "1                                    15.5   \n",
      "2                                    21.8   \n",
      "3                                     6.5   \n",
      "4                                     7.5   \n",
      "\n",
      "   Health: Physicians (per 1 000 pop.)  \\\n",
      "0                                  0.3   \n",
      "1                                  0.3   \n",
      "2                                  NaN   \n",
      "3                                  1.3   \n",
      "4                                  1.9   \n",
      "\n",
      "   Under five mortality rate (per 1000 live births)  \\\n",
      "0                                              76.5   \n",
      "1                                              62.9   \n",
      "2                                              54.5   \n",
      "3                                              10.1   \n",
      "4                                               9.4   \n",
      "\n",
      "   Urban population (% of total population)  \\\n",
      "0                                      24.8   \n",
      "1                                      25.8   \n",
      "2                                       NaN   \n",
      "3                                      57.4   \n",
      "4                                      61.2   \n",
      "\n",
      "   Education: Government expenditure (% of GDP)  \\\n",
      "0                                           3.3   \n",
      "1                                           2.9   \n",
      "2                                           NaN   \n",
      "3                                           3.4   \n",
      "4                                           3.3   \n",
      "\n",
      "   Education: Primary gross enrol. ratio - Female (per 100 pop.)  \\\n",
      "0                                               85.9               \n",
      "1                                               88.3               \n",
      "2                                                NaN               \n",
      "3                                              111.5               \n",
      "4                                               98.0               \n",
      "\n",
      "   Education: Primary gross enrol. ratio - Male (per 100 pop.)  \\\n",
      "0                                              125.4             \n",
      "1                                              130.6             \n",
      "2                                                NaN             \n",
      "3                                              115.0             \n",
      "4                                              103.2             \n",
      "\n",
      "   Education: Upper Sec. gross enrol. ratio - Female (per 100 pop.)  \\\n",
      "0                                               27.9                  \n",
      "1                                               29.3                  \n",
      "2                                                NaN                  \n",
      "3                                               91.5                  \n",
      "4                                               89.4                  \n",
      "\n",
      "   Education: Upper Sec. gross enrol. ratio - Male (per 100 pop.)  \\\n",
      "0                                               54.3                \n",
      "1                                               54.1                \n",
      "2                                                NaN                \n",
      "3                                              105.3                \n",
      "4                                               97.2                \n",
      "\n",
      "   Education: Lower Sec. gross enrol. ratio - Female (per 100 pop.)  \\\n",
      "0                                               47.0                  \n",
      "1                                               53.8                  \n",
      "2                                                NaN                  \n",
      "3                                              105.5                  \n",
      "4                                               95.4                  \n",
      "\n",
      "   Education: Lower Sec. gross enrol. ratio - Male (per 100 pop.)  \\\n",
      "0                                               80.3                \n",
      "1                                               90.0                \n",
      "2                                                NaN                \n",
      "3                                              108.6                \n",
      "4                                              101.6                \n",
      "\n",
      "   Population age distribution - 0-14 years (%)  \\\n",
      "0                                          46.3   \n",
      "1                                          44.2   \n",
      "2                                          42.9   \n",
      "3                                          19.0   \n",
      "4                                          17.5   \n",
      "\n",
      "   Population age distribution - 60+ years (%)  \\\n",
      "0                                          3.7   \n",
      "1                                          3.8   \n",
      "2                                          3.9   \n",
      "3                                         17.7   \n",
      "4                                         21.1   \n",
      "\n",
      "   Life expectancy at birth - Female (years)  \\\n",
      "0                                       64.2   \n",
      "1                                       64.7   \n",
      "2                                       67.8   \n",
      "3                                       80.5   \n",
      "4                                       80.3   \n",
      "\n",
      "   Life expectancy at birth - Male (years)  \\\n",
      "0                                     60.4   \n",
      "1                                     58.5   \n",
      "2                                     64.7   \n",
      "3                                     76.3   \n",
      "4                                     75.4   \n",
      "\n",
      "   Life expectancy at birth - Female/Life expectancy at birth - Male Ratio  \n",
      "0                                         106.291391                        \n",
      "1                                         110.598291                        \n",
      "2                                         104.791345                        \n",
      "3                                         105.504587                        \n",
      "4                                         106.498674                        \n"
     ]
    }
   ],
   "source": [
    "df_analisis = df_social_indicators[cols_a_evaluar]\n",
    "\n",
    "print(\"Table size\", df_analisis.shape, \"\\n\")\n",
    "print(df_analisis.head())"
   ]
  },
  {
   "cell_type": "code",
   "execution_count": 33,
   "id": "fa015e89",
   "metadata": {},
   "outputs": [],
   "source": [
    "cols_simplificados = [\n",
    "    \"Country\",\n",
    "    \"Year\",\n",
    "    \"FertilityRate\",\n",
    "    \"Health_ExpenditureGDP\",\n",
    "    \"Physicians_per1000\",\n",
    "    \"Under5_Mortality\",\n",
    "    \"UrbanPop_Perc\",\n",
    "    \"Edu_ExpenditureGDP\",\n",
    "    \"PrimaryEnroll_F\",\n",
    "    \"PrimaryEnroll_M\",\n",
    "    \"UpperSecEnroll_F\",\n",
    "    \"UpperSecEnroll_M\",\n",
    "    \"LowerSecEnroll_F\",\n",
    "    \"LowerSecEnroll_M\",\n",
    "    \"Pop_0_14_Perc\",\n",
    "    \"Pop_60plus_Perc\",\n",
    "    \"LifeExp_F\",\n",
    "    \"LifeExp_M\",\n",
    "    \"LifeExp_FM_Ratio\",\n",
    "    \"HomicideRate\"\n",
    "]\n",
    "rename_dict = dict(zip(cols_a_evaluar, cols_simplificados))\n",
    "df_analisis = df_analisis.rename(columns=rename_dict)\n"
   ]
  },
  {
   "cell_type": "code",
   "execution_count": 40,
   "id": "6717a2ef",
   "metadata": {},
   "outputs": [
    {
     "name": "stdout",
     "output_type": "stream",
     "text": [
      "<class 'pandas.core.frame.DataFrame'>\n",
      "RangeIndex: 696 entries, 0 to 695\n",
      "Data columns (total 19 columns):\n",
      " #   Column                 Non-Null Count  Dtype  \n",
      "---  ------                 --------------  -----  \n",
      " 0   Country                696 non-null    object \n",
      " 1   Year                   696 non-null    float64\n",
      " 2   FertilityRate          690 non-null    float64\n",
      " 3   Health_ExpenditureGDP  568 non-null    float64\n",
      " 4   Physicians_per1000     475 non-null    float64\n",
      " 5   Under5_Mortality       690 non-null    float64\n",
      " 6   UrbanPop_Perc          464 non-null    float64\n",
      " 7   Edu_ExpenditureGDP     459 non-null    float64\n",
      " 8   PrimaryEnroll_F        561 non-null    float64\n",
      " 9   PrimaryEnroll_M        561 non-null    float64\n",
      " 10  UpperSecEnroll_F       517 non-null    float64\n",
      " 11  UpperSecEnroll_M       517 non-null    float64\n",
      " 12  LowerSecEnroll_F       541 non-null    float64\n",
      " 13  LowerSecEnroll_M       538 non-null    float64\n",
      " 14  Pop_0_14_Perc          690 non-null    float64\n",
      " 15  Pop_60plus_Perc        690 non-null    float64\n",
      " 16  LifeExp_F              690 non-null    float64\n",
      " 17  LifeExp_M              690 non-null    float64\n",
      " 18  LifeExp_FM_Ratio       690 non-null    float64\n",
      "dtypes: float64(18), object(1)\n",
      "memory usage: 103.4+ KB\n"
     ]
    }
   ],
   "source": [
    "df_analisis.info()"
   ]
  },
  {
   "cell_type": "code",
   "execution_count": 34,
   "id": "91ccb910",
   "metadata": {},
   "outputs": [
    {
     "name": "stdout",
     "output_type": "stream",
     "text": [
      "       Country    Year  FertilityRate  Health_ExpenditureGDP  \\\n",
      "0  Afghanistan  2015.0            5.7                   10.1   \n",
      "1  Afghanistan  2020.0            5.1                   15.5   \n",
      "2  Afghanistan  2024.0            4.8                   21.8   \n",
      "3      Albania  2015.0            1.6                    6.5   \n",
      "4      Albania  2020.0            1.4                    7.5   \n",
      "\n",
      "   Physicians_per1000  Under5_Mortality  UrbanPop_Perc  Edu_ExpenditureGDP  \\\n",
      "0                 0.3              76.5           24.8                 3.3   \n",
      "1                 0.3              62.9           25.8                 2.9   \n",
      "2                 NaN              54.5            NaN                 NaN   \n",
      "3                 1.3              10.1           57.4                 3.4   \n",
      "4                 1.9               9.4           61.2                 3.3   \n",
      "\n",
      "   PrimaryEnroll_F  PrimaryEnroll_M  UpperSecEnroll_F  UpperSecEnroll_M  \\\n",
      "0             85.9            125.4              27.9              54.3   \n",
      "1             88.3            130.6              29.3              54.1   \n",
      "2              NaN              NaN               NaN               NaN   \n",
      "3            111.5            115.0              91.5             105.3   \n",
      "4             98.0            103.2              89.4              97.2   \n",
      "\n",
      "   LowerSecEnroll_F  LowerSecEnroll_M  Pop_0_14_Perc  Pop_60plus_Perc  \\\n",
      "0              47.0              80.3           46.3              3.7   \n",
      "1              53.8              90.0           44.2              3.8   \n",
      "2               NaN               NaN           42.9              3.9   \n",
      "3             105.5             108.6           19.0             17.7   \n",
      "4              95.4             101.6           17.5             21.1   \n",
      "\n",
      "   LifeExp_F  LifeExp_M  LifeExp_FM_Ratio  \n",
      "0       64.2       60.4        106.291391  \n",
      "1       64.7       58.5        110.598291  \n",
      "2       67.8       64.7        104.791345  \n",
      "3       80.5       76.3        105.504587  \n",
      "4       80.3       75.4        106.498674  \n"
     ]
    }
   ],
   "source": [
    "print(df_analisis.head())"
   ]
  },
  {
   "cell_type": "markdown",
   "id": "dd014573",
   "metadata": {},
   "source": [
    "## El top 10 paises con mayor ratio de Life expectancy. \n",
    "\n",
    "### life expectancy ratio \n",
    "100 → mujeres y hombres tienen la misma esperanza de vida. \n",
    "\n",
    "\\>100 → mujeres viven más años que los hombres.\n",
    "\n",
    "<100 → hombres viven más años que las mujeres (rarísimo).\n"
   ]
  },
  {
   "cell_type": "code",
   "execution_count": 22,
   "id": "150bedd9",
   "metadata": {},
   "outputs": [
    {
     "data": {
      "image/png": "[encoded data removed]",
      "text/plain": [
       "<Figure size 500x500 with 1 Axes>"
      ]
     },
     "metadata": {},
     "output_type": "display_data"
    }
   ],
   "source": [
    "top10 = df_social_indicators.nlargest(10, \"Life expectancy at birth - Female/Life expectancy at birth - Male Ratio\")\n",
    "\n",
    "plt.figure(figsize=(5,5))\n",
    "plt.barh(top10[\"Country\"], top10[\"Life expectancy at birth - Female/Life expectancy at birth - Male Ratio\"], color=\"pink\")\n",
    "plt.xlabel(\"Life expectancy at birth ratio\")\n",
    "plt.title(\"Mayor life expectancy en Hombres\")\n",
    "plt.gca().invert_yaxis()\n",
    "plt.show()"
   ]
  },
  {
   "cell_type": "code",
   "execution_count": 31,
   "id": "ff7b98aa",
   "metadata": {},
   "outputs": [
    {
     "data": {
      "image/png": "[encoded data removed]",
      "text/plain": [
       "<Figure size 500x500 with 1 Axes>"
      ]
     },
     "metadata": {},
     "output_type": "display_data"
    }
   ],
   "source": [
    "top10 = df_social_indicators.nsmallest(10, \"Life expectancy at birth - Female/Life expectancy at birth - Male Ratio\")\n",
    "\n",
    "plt.figure(figsize=(5,5))\n",
    "plt.barh(top10[\"Country\"], top10[\"Life expectancy at birth - Female/Life expectancy at birth - Male Ratio\"], color=\"pink\")\n",
    "plt.xlabel(\"Life expectancy at birth ratio\")\n",
    "plt.title(\"Mayor life expectancy en Mujeres\")\n",
    "plt.gca().invert_yaxis()\n",
    "plt.show()"
   ]
  },
  {
   "cell_type": "code",
   "execution_count": null,
   "id": "a765fe22",
   "metadata": {},
   "outputs": [
    {
     "data": {
      "image/png": "[encoded data removed]",
      "text/plain": [
       "<Figure size 800x500 with 1 Axes>"
      ]
     },
     "metadata": {},
     "output_type": "display_data"
    }
   ],
   "source": [
    "plt.figure(figsize=(8,5))\n",
    "sns.histplot(df_analisis['Physicians_per1000'], bins=30)\n",
    "plt.title(\"Distribución de Médicos por cada 1000 habitantes\")\n",
    "plt.xlabel(\"Médicos por cada 1000 habitantes\")\n",
    "plt.ylabel(\"Cantidad de países\")\n",
    "plt.show()"
   ]
  }
 ],
 "metadata": {
  "kernelspec": {
   "display_name": "venv",
   "language": "python",
   "name": "python3"
  },
  "language_info": {
   "codemirror_mode": {
    "name": "ipython",
    "version": 3
   },
   "file_extension": ".py",
   "mimetype": "text/x-python",
   "name": "python",
   "nbconvert_exporter": "python",
   "pygments_lexer": "ipython3",
   "version": "3.12.3"
  }
 },
 "nbformat": 4,
 "nbformat_minor": 5
}
