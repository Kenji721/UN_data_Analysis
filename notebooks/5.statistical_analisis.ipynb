{
 "cells": [
  {
   "cell_type": "code",
   "execution_count": 3,
   "id": "1a93ac72",
   "metadata": {},
   "outputs": [
    {
     "name": "stdout",
     "output_type": "stream",
     "text": [
      "Collecting statsmodels\n",
      "  Downloading statsmodels-0.14.5-cp312-cp312-macosx_11_0_arm64.whl.metadata (9.5 kB)\n",
      "Requirement already satisfied: numpy<3,>=1.22.3 in /Users/saramiranda/Desktop/country_data_dsf_project/venv/lib/python3.12/site-packages (from statsmodels) (2.3.3)\n",
      "Requirement already satisfied: scipy!=1.9.2,>=1.8 in /Users/saramiranda/Desktop/country_data_dsf_project/venv/lib/python3.12/site-packages (from statsmodels) (1.16.2)\n",
      "Requirement already satisfied: pandas!=2.1.0,>=1.4 in /Users/saramiranda/Desktop/country_data_dsf_project/venv/lib/python3.12/site-packages (from statsmodels) (2.3.2)\n",
      "Collecting patsy>=0.5.6 (from statsmodels)\n",
      "  Downloading patsy-1.0.1-py2.py3-none-any.whl.metadata (3.3 kB)\n",
      "Requirement already satisfied: packaging>=21.3 in /Users/saramiranda/Desktop/country_data_dsf_project/venv/lib/python3.12/site-packages (from statsmodels) (25.0)\n",
      "Requirement already satisfied: python-dateutil>=2.8.2 in /Users/saramiranda/Desktop/country_data_dsf_project/venv/lib/python3.12/site-packages (from pandas!=2.1.0,>=1.4->statsmodels) (2.9.0.post0)\n",
      "Requirement already satisfied: pytz>=2020.1 in /Users/saramiranda/Desktop/country_data_dsf_project/venv/lib/python3.12/site-packages (from pandas!=2.1.0,>=1.4->statsmodels) (2025.2)\n",
      "Requirement already satisfied: tzdata>=2022.7 in /Users/saramiranda/Desktop/country_data_dsf_project/venv/lib/python3.12/site-packages (from pandas!=2.1.0,>=1.4->statsmodels) (2025.2)\n",
      "Requirement already satisfied: six>=1.5 in /Users/saramiranda/Desktop/country_data_dsf_project/venv/lib/python3.12/site-packages (from python-dateutil>=2.8.2->pandas!=2.1.0,>=1.4->statsmodels) (1.17.0)\n",
      "Downloading statsmodels-0.14.5-cp312-cp312-macosx_11_0_arm64.whl (9.7 MB)\n",
      "\u001b[2K   \u001b[90m━━━━━━━━━━━━━━━━━━━━━━━━━━━━━━━━━━━━━━━━\u001b[0m \u001b[32m9.7/9.7 MB\u001b[0m \u001b[31m9.8 MB/s\u001b[0m eta \u001b[36m0:00:00\u001b[0m:00:01\u001b[0m0:01\u001b[0mm\n",
      "\u001b[?25hDownloading patsy-1.0.1-py2.py3-none-any.whl (232 kB)\n",
      "\u001b[2K   \u001b[90m━━━━━━━━━━━━━━━━━━━━━━━━━━━━━━━━━━━━━━━━\u001b[0m \u001b[32m232.9/232.9 kB\u001b[0m \u001b[31m9.0 MB/s\u001b[0m eta \u001b[36m0:00:00\u001b[0m\n",
      "\u001b[?25hInstalling collected packages: patsy, statsmodels\n",
      "Successfully installed patsy-1.0.1 statsmodels-0.14.5\n",
      "\n",
      "\u001b[1m[\u001b[0m\u001b[34;49mnotice\u001b[0m\u001b[1;39;49m]\u001b[0m\u001b[39;49m A new release of pip is available: \u001b[0m\u001b[31;49m24.0\u001b[0m\u001b[39;49m -> \u001b[0m\u001b[32;49m25.2\u001b[0m\n",
      "\u001b[1m[\u001b[0m\u001b[34;49mnotice\u001b[0m\u001b[1;39;49m]\u001b[0m\u001b[39;49m To update, run: \u001b[0m\u001b[32;49mpip install --upgrade pip\u001b[0m\n",
      "Collecting scikit-learn\n",
      "  Downloading scikit_learn-1.7.2-cp312-cp312-macosx_12_0_arm64.whl.metadata (11 kB)\n",
      "Requirement already satisfied: numpy>=1.22.0 in /Users/saramiranda/Desktop/country_data_dsf_project/venv/lib/python3.12/site-packages (from scikit-learn) (2.3.3)\n",
      "Requirement already satisfied: scipy>=1.8.0 in /Users/saramiranda/Desktop/country_data_dsf_project/venv/lib/python3.12/site-packages (from scikit-learn) (1.16.2)\n",
      "Collecting joblib>=1.2.0 (from scikit-learn)\n",
      "  Using cached joblib-1.5.2-py3-none-any.whl.metadata (5.6 kB)\n",
      "Collecting threadpoolctl>=3.1.0 (from scikit-learn)\n",
      "  Using cached threadpoolctl-3.6.0-py3-none-any.whl.metadata (13 kB)\n",
      "Downloading scikit_learn-1.7.2-cp312-cp312-macosx_12_0_arm64.whl (8.6 MB)\n",
      "\u001b[2K   \u001b[90m━━━━━━━━━━━━━━━━━━━━━━━━━━━━━━━━━━━━━━━━\u001b[0m \u001b[32m8.6/8.6 MB\u001b[0m \u001b[31m10.7 MB/s\u001b[0m eta \u001b[36m0:00:00\u001b[0m00:01\u001b[0m00:01\u001b[0m\n",
      "\u001b[?25hUsing cached joblib-1.5.2-py3-none-any.whl (308 kB)\n",
      "Using cached threadpoolctl-3.6.0-py3-none-any.whl (18 kB)\n",
      "Installing collected packages: threadpoolctl, joblib, scikit-learn\n",
      "Successfully installed joblib-1.5.2 scikit-learn-1.7.2 threadpoolctl-3.6.0\n",
      "\n",
      "\u001b[1m[\u001b[0m\u001b[34;49mnotice\u001b[0m\u001b[1;39;49m]\u001b[0m\u001b[39;49m A new release of pip is available: \u001b[0m\u001b[31;49m24.0\u001b[0m\u001b[39;49m -> \u001b[0m\u001b[32;49m25.2\u001b[0m\n",
      "\u001b[1m[\u001b[0m\u001b[34;49mnotice\u001b[0m\u001b[1;39;49m]\u001b[0m\u001b[39;49m To update, run: \u001b[0m\u001b[32;49mpip install --upgrade pip\u001b[0m\n"
     ]
    }
   ],
   "source": [
    "!pip install statsmodels\n",
    "!pip install scikit-learn\n"
   ]
  },
  {
   "cell_type": "code",
   "execution_count": 4,
   "id": "f7c2a048",
   "metadata": {},
   "outputs": [],
   "source": [
    "import pandas as pd\n",
    "import warnings\n",
    "import matplotlib.pyplot as plt\n",
    "import numpy as np\n",
    "\n",
    "from scipy import stats\n",
    "from sklearn.preprocessing import StandardScaler\n",
    "from sklearn.decomposition import PCA"
   ]
  },
  {
   "cell_type": "code",
   "execution_count": 5,
   "id": "788ac4bd",
   "metadata": {},
   "outputs": [],
   "source": [
    "# Ignorar warnings\n",
    "warnings.filterwarnings('ignore')"
   ]
  },
  {
   "cell_type": "code",
   "execution_count": 11,
   "id": "8a235b59",
   "metadata": {},
   "outputs": [],
   "source": [
    "# Cargar el dataframe\n",
    "df = pd.read_csv('../data/processed/complete_merged.csv')"
   ]
  },
  {
   "cell_type": "code",
   "execution_count": 12,
   "id": "46f6e0d5",
   "metadata": {},
   "outputs": [
    {
     "data": {
      "text/plain": [
       "(696, 79)"
      ]
     },
     "execution_count": 12,
     "metadata": {},
     "output_type": "execute_result"
    }
   ],
   "source": [
    "df.shape"
   ]
  },
  {
   "cell_type": "code",
   "execution_count": 13,
   "id": "1f760f58",
   "metadata": {},
   "outputs": [
    {
     "data": {
      "text/plain": [
       "Country                                                 0\n",
       "Year                                                    0\n",
       "Agricultural production index (2014-2016=100)         102\n",
       "Balance of payments, current account (million US$)    134\n",
       "CPI: Consumer Price Index (2010=100)                  110\n",
       "                                                     ... \n",
       "Region                                                  0\n",
       "Sex ratio (m per 100 f)                                 6\n",
       "Surface area (km2)                                     18\n",
       "UN membership date                                    117\n",
       "Capital_city_pop                                        3\n",
       "Length: 79, dtype: int64"
      ]
     },
     "execution_count": 13,
     "metadata": {},
     "output_type": "execute_result"
    }
   ],
   "source": [
    "df.isnull().sum()"
   ]
  },
  {
   "cell_type": "code",
   "execution_count": 14,
   "id": "855e2ddb",
   "metadata": {},
   "outputs": [
    {
     "name": "stdout",
     "output_type": "stream",
     "text": [
      "Dimensiones: (696, 88)\n"
     ]
    },
    {
     "data": {
      "text/html": [
       "<div>\n",
       "<style scoped>\n",
       "    .dataframe tbody tr th:only-of-type {\n",
       "        vertical-align: middle;\n",
       "    }\n",
       "\n",
       "    .dataframe tbody tr th {\n",
       "        vertical-align: top;\n",
       "    }\n",
       "\n",
       "    .dataframe thead th {\n",
       "        text-align: right;\n",
       "    }\n",
       "</style>\n",
       "<table border=\"1\" class=\"dataframe\">\n",
       "  <thead>\n",
       "    <tr style=\"text-align: right;\">\n",
       "      <th></th>\n",
       "      <th>Country</th>\n",
       "      <th>Year</th>\n",
       "      <th>EsperanzaVida</th>\n",
       "      <th>Escolarizacion_Primaria</th>\n",
       "      <th>Escolarizacion_Secundaria</th>\n",
       "      <th>GastoSalud_PIB</th>\n",
       "      <th>TasaFertilidad</th>\n",
       "      <th>IndiceDesarrollo</th>\n",
       "      <th>NivelDesarrollo</th>\n",
       "      <th>Medicos_x1000</th>\n",
       "      <th>TasaMortalidad</th>\n",
       "    </tr>\n",
       "  </thead>\n",
       "  <tbody>\n",
       "    <tr>\n",
       "      <th>0</th>\n",
       "      <td>Afghanistan</td>\n",
       "      <td>2015.0</td>\n",
       "      <td>62.30</td>\n",
       "      <td>105.65</td>\n",
       "      <td>41.1</td>\n",
       "      <td>10.1</td>\n",
       "      <td>5.7</td>\n",
       "      <td>554.0</td>\n",
       "      <td>En desarrollo</td>\n",
       "      <td>0.3</td>\n",
       "      <td>76.5</td>\n",
       "    </tr>\n",
       "    <tr>\n",
       "      <th>1</th>\n",
       "      <td>Afghanistan</td>\n",
       "      <td>2020.0</td>\n",
       "      <td>61.60</td>\n",
       "      <td>109.45</td>\n",
       "      <td>41.7</td>\n",
       "      <td>15.5</td>\n",
       "      <td>5.1</td>\n",
       "      <td>512.7</td>\n",
       "      <td>En desarrollo</td>\n",
       "      <td>0.3</td>\n",
       "      <td>62.9</td>\n",
       "    </tr>\n",
       "    <tr>\n",
       "      <th>2</th>\n",
       "      <td>Afghanistan</td>\n",
       "      <td>2024.0</td>\n",
       "      <td>66.25</td>\n",
       "      <td>NaN</td>\n",
       "      <td>NaN</td>\n",
       "      <td>21.8</td>\n",
       "      <td>4.8</td>\n",
       "      <td>344.6</td>\n",
       "      <td>En desarrollo</td>\n",
       "      <td>NaN</td>\n",
       "      <td>54.5</td>\n",
       "    </tr>\n",
       "    <tr>\n",
       "      <th>3</th>\n",
       "      <td>Albania</td>\n",
       "      <td>2015.0</td>\n",
       "      <td>78.40</td>\n",
       "      <td>113.25</td>\n",
       "      <td>98.4</td>\n",
       "      <td>6.5</td>\n",
       "      <td>1.6</td>\n",
       "      <td>3950.4</td>\n",
       "      <td>En desarrollo</td>\n",
       "      <td>1.3</td>\n",
       "      <td>10.1</td>\n",
       "    </tr>\n",
       "    <tr>\n",
       "      <th>4</th>\n",
       "      <td>Albania</td>\n",
       "      <td>2020.0</td>\n",
       "      <td>77.85</td>\n",
       "      <td>100.60</td>\n",
       "      <td>93.3</td>\n",
       "      <td>7.5</td>\n",
       "      <td>1.4</td>\n",
       "      <td>5289.0</td>\n",
       "      <td>En desarrollo</td>\n",
       "      <td>1.9</td>\n",
       "      <td>9.4</td>\n",
       "    </tr>\n",
       "  </tbody>\n",
       "</table>\n",
       "</div>"
      ],
      "text/plain": [
       "       Country    Year  EsperanzaVida  Escolarizacion_Primaria  \\\n",
       "0  Afghanistan  2015.0          62.30                   105.65   \n",
       "1  Afghanistan  2020.0          61.60                   109.45   \n",
       "2  Afghanistan  2024.0          66.25                      NaN   \n",
       "3      Albania  2015.0          78.40                   113.25   \n",
       "4      Albania  2020.0          77.85                   100.60   \n",
       "\n",
       "   Escolarizacion_Secundaria  GastoSalud_PIB  TasaFertilidad  \\\n",
       "0                       41.1            10.1             5.7   \n",
       "1                       41.7            15.5             5.1   \n",
       "2                        NaN            21.8             4.8   \n",
       "3                       98.4             6.5             1.6   \n",
       "4                       93.3             7.5             1.4   \n",
       "\n",
       "   IndiceDesarrollo NivelDesarrollo  Medicos_x1000  TasaMortalidad  \n",
       "0             554.0   En desarrollo            0.3            76.5  \n",
       "1             512.7   En desarrollo            0.3            62.9  \n",
       "2             344.6   En desarrollo            NaN            54.5  \n",
       "3            3950.4   En desarrollo            1.3            10.1  \n",
       "4            5289.0   En desarrollo            1.9             9.4  "
      ]
     },
     "execution_count": 14,
     "metadata": {},
     "output_type": "execute_result"
    }
   ],
   "source": [
    "# ===== PREPROCESAMIENTO SEGÚN TUS COLUMNAS =====\n",
    "df = df.copy()\n",
    "\n",
    "# --- 1) Esperanza de vida \"global\" (promedio F y M)\n",
    "col_life_f = \"Life expectancy at birth - Female (years)\"\n",
    "col_life_m = \"Life expectancy at birth - Male (years)\"\n",
    "df[\"EsperanzaVida\"] = df[[col_life_f, col_life_m]].mean(axis=1)\n",
    "\n",
    "# --- 2) Escolarización (promedio F y M)\n",
    "# Primaria\n",
    "col_prim_f = \"Education: Primary gross enrol. ratio - Female (per 100 pop.)\"\n",
    "col_prim_m = \"Education: Primary gross enrol. ratio - Male (per 100 pop.)\"\n",
    "df[\"Escolarizacion_Primaria\"] = df[[col_prim_f, col_prim_m]].mean(axis=1)\n",
    "\n",
    "# Secundaria (tomaremos Upper Secondary como proxy de secundaria)\n",
    "col_upsec_f = \"Education: Upper Sec. gross enrol. ratio - Female (per 100 pop.)\"\n",
    "col_upsec_m = \"Education: Upper Sec. gross enrol. ratio - Male (per 100 pop.)\"\n",
    "df[\"Escolarizacion_Secundaria\"] = df[[col_upsec_f, col_upsec_m]].mean(axis=1)\n",
    "\n",
    "# --- 3) Gasto en salud % PIB\n",
    "df[\"GastoSalud_PIB\"] = df[\"Health: Current expenditure (% of GDP)\"]\n",
    "\n",
    "# --- 4) Fertilidad\n",
    "df[\"TasaFertilidad\"] = df[\"Fertility rate, total (live births per woman)\"]\n",
    "\n",
    "# --- 5) Desarrollo (numérico proxy = PIB per cápita; categórico = cuartil superior vs resto)\n",
    "df[\"IndiceDesarrollo\"] = df[\"GDP per capita (current US$)\"]\n",
    "\n",
    "# Umbral de \"Desarrollado\": top 25% por PIB per cápita \n",
    "cutoff = df[\"IndiceDesarrollo\"].quantile(0.75)\n",
    "df[\"NivelDesarrollo\"] = np.where(df[\"IndiceDesarrollo\"] >= cutoff, \"Desarrollado\", \"En desarrollo\")\n",
    "\n",
    "# --- 6) Médicos y Mortalidad (usaremos mortalidad <5 años como proxy de mortalidad)\n",
    "df[\"Medicos_x1000\"] = df[\"Health: Physicians (per 1 000 pop.)\"]\n",
    "df[\"TasaMortalidad\"] = df[\"Under five mortality rate (per 1000 live births)\"]\n",
    "\n",
    "print(\"Dimensiones:\", df.shape)\n",
    "df[[\"Country\",\"Year\",\"EsperanzaVida\",\"Escolarizacion_Primaria\",\"Escolarizacion_Secundaria\",\n",
    "    \"GastoSalud_PIB\",\"TasaFertilidad\",\"IndiceDesarrollo\",\"NivelDesarrollo\",\"Medicos_x1000\",\"TasaMortalidad\"]].head(5)\n"
   ]
  },
  {
   "cell_type": "code",
   "execution_count": 15,
   "id": "69a2975d",
   "metadata": {},
   "outputs": [],
   "source": [
    "# ===== MAPEO DE COLUMNAS PARA EL GUION DE HIPÓTESIS =====\n",
    "COL = {\n",
    "    \"health_exp_gdp\": \"GastoSalud_PIB\",             # % PIB en salud (derivada)\n",
    "    \"life_expect\": \"EsperanzaVida\",                 # años (promedio F y M)\n",
    "    \"fertility\": \"TasaFertilidad\",                  # hijos por mujer\n",
    "    \"school_primary\": \"Escolarizacion_Primaria\",    # % (promedio F y M)\n",
    "    \"school_secondary\": \"Escolarizacion_Secundaria\",# % (Upper Sec promedio F y M)\n",
    "    \"dev_status\": \"NivelDesarrollo\",                # categórica: \"Desarrollado\"/\"En desarrollo\" (cuartil superior por PIB pc)\n",
    "    \"dev_index\": \"IndiceDesarrollo\",                # numérica: PIB per cápita (proxy de desarrollo)\n",
    "    \"physicians\": \"Medicos_x1000\",                  # médicos por 1,000 hab\n",
    "    \"mortality\": \"TasaMortalidad\"                   # proxy: mortalidad <5 (por 1,000 nacidos vivos)\n",
    "}\n"
   ]
  },
  {
   "cell_type": "markdown",
   "id": "e2b72eda",
   "metadata": {},
   "source": [
    "**Pregunta:** ¿Los países con mayor gasto en salud (% del PIB) tienen una esperanza de vida diferente a los países con menor gasto en salud?\n",
    "\n",
    "$H_0$: La media de la esperanza de vida en países con alto gasto en salud es igual a la media en países con bajo gasto en salud.\n",
    "\n",
    "$H_1$: La media de la esperanza de vida en países con alto gasto en salud es distinta a la media en países con bajo gasto en salud."
   ]
  },
  {
   "cell_type": "code",
   "execution_count": 20,
   "id": "1faa4aa7",
   "metadata": {},
   "outputs": [
    {
     "name": "stdout",
     "output_type": "stream",
     "text": [
      "Hipótesis 1: Gasto en salud vs Esperanza de vida\n",
      "Media (alto)=74.54, Media (bajo)=69.84\n",
      "t=7.8641, p=1.896e-14\n",
      "Decisión (α=0.05): Rechazo H0\n"
     ]
    }
   ],
   "source": [
    "# Dividir países en alto vs bajo gasto en salud\n",
    "umbral = df[COL[\"health_exp_gdp\"]].median()\n",
    "grupo_alto = df[df[COL[\"health_exp_gdp\"]] >= umbral][COL[\"life_expect\"]].dropna()\n",
    "grupo_bajo = df[df[COL[\"health_exp_gdp\"]] < umbral][COL[\"life_expect\"]].dropna()\n",
    "\n",
    "# Prueba t-test (Welch)\n",
    "t, p = stats.ttest_ind(grupo_alto, grupo_bajo, equal_var=False)\n",
    "\n",
    "print(\"Hipótesis 1: Gasto en salud vs Esperanza de vida\")\n",
    "print(f\"Media (alto)={grupo_alto.mean():.2f}, Media (bajo)={grupo_bajo.mean():.2f}\")\n",
    "print(f\"t={t:.4f}, p={p:.4g}\")\n",
    "print(\"Decisión (α=0.05):\", \"Rechazo H0\" if p < 0.05 else \"No rechazo H0\")\n"
   ]
  },
  {
   "cell_type": "markdown",
   "id": "8811f892",
   "metadata": {},
   "source": [
    "**Pregunta:** ¿La tasa de fertilidad influye en la esperanza de vida de los países?\n",
    "\n",
    "$H_0$: La media de la esperanza de vida es igual en países con alta tasa de fertilidad y en países con baja tasa de fertilidad.\n",
    "\n",
    "$H_1$: La media de la esperanza de vida en países con alto gasto en salud es distinta a la media en países con bajo gasto en salud."
   ]
  },
  {
   "cell_type": "code",
   "execution_count": 21,
   "id": "20114fed",
   "metadata": {},
   "outputs": [
    {
     "name": "stdout",
     "output_type": "stream",
     "text": [
      "Hipótesis 2: Fertilidad vs Esperanza de vida\n",
      "Media (alta fertilidad)=68.32, Media (baja fertilidad)=78.03\n",
      "t=-22.6859, p=1.644e-81\n",
      "Decisión (α=0.05): Rechazo H0\n"
     ]
    }
   ],
   "source": [
    "umbral = df[COL[\"fertility\"]].median()\n",
    "grupo_alta = df[df[COL[\"fertility\"]] >= umbral][COL[\"life_expect\"]].dropna()\n",
    "grupo_baja = df[df[COL[\"fertility\"]] < umbral][COL[\"life_expect\"]].dropna()\n",
    "\n",
    "# Prueba t-test (Welch)\n",
    "t, p = stats.ttest_ind(grupo_alta, grupo_baja, equal_var=False)\n",
    "\n",
    "print(\"Hipótesis 2: Fertilidad vs Esperanza de vida\")\n",
    "print(f\"Media (alta fertilidad)={grupo_alta.mean():.2f}, Media (baja fertilidad)={grupo_baja.mean():.2f}\")\n",
    "print(f\"t={t:.4f}, p={p:.4g}\")\n",
    "print(\"Decisión (α=0.05):\", \"Rechazo H0\" if p < 0.05 else \"No rechazo H0\")"
   ]
  },
  {
   "cell_type": "markdown",
   "id": "22312622",
   "metadata": {},
   "source": [
    "**Pregunta:** ¿Existen diferencias en las tasas de escolarización (primaria y secundaria) entre países desarrollados y países en desarrollo?\n",
    "\n",
    "$H_0$: La media de las tasas de escolarización en países desarrollados es igual a la de los países en desarrollo.\n",
    "\n",
    "$H_1$: La media de las tasas de escolarización en países desarrollados es mayor que la de los países en desarrollo"
   ]
  },
  {
   "cell_type": "code",
   "execution_count": 23,
   "id": "52fd1fda",
   "metadata": {},
   "outputs": [
    {
     "name": "stdout",
     "output_type": "stream",
     "text": [
      "Hipótesis 3: Escolarización (primaria) vs Nivel de desarrollo\n",
      "Media (desarrollado)=101.09, Media (en desarrollo)=101.37\n",
      "t=-0.2806, p=0.7792\n",
      "Decisión (α=0.05): Acepta H0\n",
      "\n",
      "Hipótesis 3: Escolarización (secundaria) vs Nivel de desarrollo\n",
      "Media (desarrollado)=114.20, Media (en desarrollo)=71.01\n",
      "t=14.5277, p=4.094e-35\n",
      "Decisión (α=0.05): Rechazo H0\n"
     ]
    }
   ],
   "source": [
    "# Grupos por nivel de desarrollo\n",
    "grupo_des = df[df[COL[\"dev_status\"]] == \"Desarrollado\"][COL[\"school_primary\"]].dropna()\n",
    "grupo_no_des = df[df[COL[\"dev_status\"]] == \"En desarrollo\"][COL[\"school_primary\"]].dropna()\n",
    "\n",
    "# Prueba t-test (Welch)\n",
    "t, p = stats.ttest_ind(grupo_des, grupo_no_des, equal_var=False)\n",
    "\n",
    "print(\"Hipótesis 3: Escolarización (primaria) vs Nivel de desarrollo\")\n",
    "print(f\"Media (desarrollado)={grupo_des.mean():.2f}, Media (en desarrollo)={grupo_no_des.mean():.2f}\")\n",
    "print(f\"t={t:.4f}, p={p:.4g}\")\n",
    "print(\"Decisión (α=0.05):\", \"Rechazo H0\" if p < 0.05 else \"Acepta H0\")\n",
    "\n",
    "# --- Repetimos para escolarización secundaria ---\n",
    "grupo_des_sec = df[df[COL[\"dev_status\"]] == \"Desarrollado\"][COL[\"school_secondary\"]].dropna()\n",
    "grupo_no_des_sec = df[df[COL[\"dev_status\"]] == \"En desarrollo\"][COL[\"school_secondary\"]].dropna()\n",
    "\n",
    "t2, p2 = stats.ttest_ind(grupo_des_sec, grupo_no_des_sec, equal_var=False)\n",
    "\n",
    "print(\"\\nHipótesis 3: Escolarización (secundaria) vs Nivel de desarrollo\")\n",
    "print(f\"Media (desarrollado)={grupo_des_sec.mean():.2f}, Media (en desarrollo)={grupo_no_des_sec.mean():.2f}\")\n",
    "print(f\"t={t2:.4f}, p={p2:.4g}\")\n",
    "print(\"Decisión (α=0.05):\", \"Rechazo H0\" if p2 < 0.05 else \"Acepta H0\")"
   ]
  },
  {
   "cell_type": "markdown",
   "id": "ba3f4211",
   "metadata": {},
   "source": [
    "**Pregunta:** ¿El gasto en salud (% del PIB) está asociado con el nivel de desarrollo de los países?\n",
    "\n",
    "$H_0$: La media del PIB per cápita es igual en países con alto y bajo gasto en salud.\n",
    "\n",
    "$H_1$: La media del PIB per cápita es mayor en países con alto gasto en salud que en países con bajo gasto en salud."
   ]
  },
  {
   "cell_type": "code",
   "execution_count": 24,
   "id": "35768eca",
   "metadata": {},
   "outputs": [
    {
     "name": "stdout",
     "output_type": "stream",
     "text": [
      "Hipótesis 4: Gasto en salud (alto vs bajo) → PIB per cápita (desarrollo)\n",
      "Media (alto)=19019.34, Media (bajo)=11300.35\n",
      "t=3.8477, p=0.0001339\n",
      "Decisión (α=0.05): Rechazo H0\n"
     ]
    }
   ],
   "source": [
    "# Dividir países en alto vs bajo gasto en salud (mediana)\n",
    "umbral = df[COL[\"health_exp_gdp\"]].median()\n",
    "alto = df[df[COL[\"health_exp_gdp\"]] >= umbral][COL[\"dev_index\"]].dropna()\n",
    "bajo = df[df[COL[\"health_exp_gdp\"]] <  umbral][COL[\"dev_index\"]].dropna()\n",
    "\n",
    "# Prueba t-test (Welch)\n",
    "t, p = stats.ttest_ind(alto, bajo, equal_var=False)\n",
    "\n",
    "print(\"Hipótesis 4: Gasto en salud (alto vs bajo) → PIB per cápita (desarrollo)\")\n",
    "print(f\"Media (alto)={alto.mean():.2f}, Media (bajo)={bajo.mean():.2f}\")\n",
    "print(f\"t={t:.4f}, p={p:.4g}\")\n",
    "print(\"Decisión (α=0.05):\", \"Rechazo H0\" if p < 0.05 and alto.mean() > bajo.mean() else \"Acepta H0\")"
   ]
  },
  {
   "cell_type": "markdown",
   "id": "69f6afb5",
   "metadata": {},
   "source": [
    "**Pregunta:** ¿El número de médicos por cada 1,000 habitantes influye en la tasa de mortalidad de los países?\n",
    "\n",
    "$H_0$: La media de la tasa de mortalidad es igual en países con muchos médicos y en países con pocos médicos.\n",
    "\n",
    "$H_1$: La media de la tasa de mortalidad es menor en países con muchos médicos que en países con pocos médicos."
   ]
  },
  {
   "cell_type": "code",
   "execution_count": 25,
   "id": "5cc1d4b8",
   "metadata": {},
   "outputs": [
    {
     "name": "stdout",
     "output_type": "stream",
     "text": [
      "Hipótesis 5: Médicos (muchos vs pocos) → Tasa de mortalidad\n",
      "Media (muchos)=8.58, Media (pocos)=47.17\n",
      "t=-18.8787, p=9.249e-51\n",
      "Decisión (α=0.05): Rechazo H0\n"
     ]
    }
   ],
   "source": [
    "umbral = df[COL[\"physicians\"]].median()\n",
    "muchos = df[df[COL[\"physicians\"]] >= umbral][COL[\"mortality\"]].dropna()\n",
    "pocos = df[df[COL[\"physicians\"]] <  umbral][COL[\"mortality\"]].dropna()\n",
    "\n",
    "# Prueba t-test (Welch)\n",
    "t, p = stats.ttest_ind(muchos, pocos, equal_var=False)\n",
    "\n",
    "print(\"Hipótesis 5: Médicos (muchos vs pocos) → Tasa de mortalidad\")\n",
    "print(f\"Media (muchos)={muchos.mean():.2f}, Media (pocos)={pocos.mean():.2f}\")\n",
    "print(f\"t={t:.4f}, p={p:.4g}\")\n",
    "print(\"Decisión (α=0.05):\", \"Rechazo H0\" if p < 0.05 and muchos.mean() < pocos.mean() else \"No rechazo H0\")"
   ]
  },
  {
   "cell_type": "code",
   "execution_count": 26,
   "id": "afd33ce6",
   "metadata": {},
   "outputs": [],
   "source": [
    "    \n",
    "vars_pca = [\n",
    "    COL[\"health_exp_gdp\"],\n",
    "    COL[\"fertility\"],\n",
    "    COL[\"life_expect\"],\n",
    "    COL[\"school_primary\"],\n",
    "    COL[\"school_secondary\"],\n",
    "    COL[\"physicians\"],\n",
    "    COL[\"dev_index\"]\n",
    "]\n",
    "\n",
    "\n",
    "df_pca = df[vars_pca].dropna()"
   ]
  },
  {
   "cell_type": "code",
   "execution_count": null,
   "id": "642b1344",
   "metadata": {},
   "outputs": [
    {
     "ename": "ValueError",
     "evalue": "could not convert string to float: 'Year'",
     "output_type": "error",
     "traceback": [
      "\u001b[31m---------------------------------------------------------------------------\u001b[39m",
      "\u001b[31mValueError\u001b[39m                                Traceback (most recent call last)",
      "\u001b[36mCell\u001b[39m\u001b[36m \u001b[39m\u001b[32mIn[37]\u001b[39m\u001b[32m, line 6\u001b[39m\n\u001b[32m      2\u001b[39m numeric_cols = numeric_cols.dropna()\n\u001b[32m      5\u001b[39m scaler = StandardScaler()\n\u001b[32m----> \u001b[39m\u001b[32m6\u001b[39m X_std = \u001b[43mscaler\u001b[49m\u001b[43m.\u001b[49m\u001b[43mfit_transform\u001b[49m\u001b[43m(\u001b[49m\u001b[43mnumeric_cols\u001b[49m\u001b[43m)\u001b[49m\n\u001b[32m      8\u001b[39m \u001b[38;5;28mprint\u001b[39m(\u001b[33m\"\u001b[39m\u001b[33mAntes (primeras filas):\u001b[39m\u001b[33m\"\u001b[39m)\n\u001b[32m      9\u001b[39m display(df_pca.head())\n",
      "\u001b[36mFile \u001b[39m\u001b[32m~/Desktop/country_data_dsf_project/venv/lib/python3.12/site-packages/sklearn/utils/_set_output.py:316\u001b[39m, in \u001b[36m_wrap_method_output.<locals>.wrapped\u001b[39m\u001b[34m(self, X, *args, **kwargs)\u001b[39m\n\u001b[32m    314\u001b[39m \u001b[38;5;129m@wraps\u001b[39m(f)\n\u001b[32m    315\u001b[39m \u001b[38;5;28;01mdef\u001b[39;00m\u001b[38;5;250m \u001b[39m\u001b[34mwrapped\u001b[39m(\u001b[38;5;28mself\u001b[39m, X, *args, **kwargs):\n\u001b[32m--> \u001b[39m\u001b[32m316\u001b[39m     data_to_wrap = \u001b[43mf\u001b[49m\u001b[43m(\u001b[49m\u001b[38;5;28;43mself\u001b[39;49m\u001b[43m,\u001b[49m\u001b[43m \u001b[49m\u001b[43mX\u001b[49m\u001b[43m,\u001b[49m\u001b[43m \u001b[49m\u001b[43m*\u001b[49m\u001b[43margs\u001b[49m\u001b[43m,\u001b[49m\u001b[43m \u001b[49m\u001b[43m*\u001b[49m\u001b[43m*\u001b[49m\u001b[43mkwargs\u001b[49m\u001b[43m)\u001b[49m\n\u001b[32m    317\u001b[39m     \u001b[38;5;28;01mif\u001b[39;00m \u001b[38;5;28misinstance\u001b[39m(data_to_wrap, \u001b[38;5;28mtuple\u001b[39m):\n\u001b[32m    318\u001b[39m         \u001b[38;5;66;03m# only wrap the first output for cross decomposition\u001b[39;00m\n\u001b[32m    319\u001b[39m         return_tuple = (\n\u001b[32m    320\u001b[39m             _wrap_data_with_container(method, data_to_wrap[\u001b[32m0\u001b[39m], X, \u001b[38;5;28mself\u001b[39m),\n\u001b[32m    321\u001b[39m             *data_to_wrap[\u001b[32m1\u001b[39m:],\n\u001b[32m    322\u001b[39m         )\n",
      "\u001b[36mFile \u001b[39m\u001b[32m~/Desktop/country_data_dsf_project/venv/lib/python3.12/site-packages/sklearn/base.py:894\u001b[39m, in \u001b[36mTransformerMixin.fit_transform\u001b[39m\u001b[34m(self, X, y, **fit_params)\u001b[39m\n\u001b[32m    879\u001b[39m         warnings.warn(\n\u001b[32m    880\u001b[39m             (\n\u001b[32m    881\u001b[39m                 \u001b[33mf\u001b[39m\u001b[33m\"\u001b[39m\u001b[33mThis object (\u001b[39m\u001b[38;5;132;01m{\u001b[39;00m\u001b[38;5;28mself\u001b[39m.\u001b[34m__class__\u001b[39m.\u001b[34m__name__\u001b[39m\u001b[38;5;132;01m}\u001b[39;00m\u001b[33m) has a `transform`\u001b[39m\u001b[33m\"\u001b[39m\n\u001b[32m   (...)\u001b[39m\u001b[32m    889\u001b[39m             \u001b[38;5;167;01mUserWarning\u001b[39;00m,\n\u001b[32m    890\u001b[39m         )\n\u001b[32m    892\u001b[39m \u001b[38;5;28;01mif\u001b[39;00m y \u001b[38;5;129;01mis\u001b[39;00m \u001b[38;5;28;01mNone\u001b[39;00m:\n\u001b[32m    893\u001b[39m     \u001b[38;5;66;03m# fit method of arity 1 (unsupervised transformation)\u001b[39;00m\n\u001b[32m--> \u001b[39m\u001b[32m894\u001b[39m     \u001b[38;5;28;01mreturn\u001b[39;00m \u001b[38;5;28;43mself\u001b[39;49m\u001b[43m.\u001b[49m\u001b[43mfit\u001b[49m\u001b[43m(\u001b[49m\u001b[43mX\u001b[49m\u001b[43m,\u001b[49m\u001b[43m \u001b[49m\u001b[43m*\u001b[49m\u001b[43m*\u001b[49m\u001b[43mfit_params\u001b[49m\u001b[43m)\u001b[49m.transform(X)\n\u001b[32m    895\u001b[39m \u001b[38;5;28;01melse\u001b[39;00m:\n\u001b[32m    896\u001b[39m     \u001b[38;5;66;03m# fit method of arity 2 (supervised transformation)\u001b[39;00m\n\u001b[32m    897\u001b[39m     \u001b[38;5;28;01mreturn\u001b[39;00m \u001b[38;5;28mself\u001b[39m.fit(X, y, **fit_params).transform(X)\n",
      "\u001b[36mFile \u001b[39m\u001b[32m~/Desktop/country_data_dsf_project/venv/lib/python3.12/site-packages/sklearn/preprocessing/_data.py:907\u001b[39m, in \u001b[36mStandardScaler.fit\u001b[39m\u001b[34m(self, X, y, sample_weight)\u001b[39m\n\u001b[32m    905\u001b[39m \u001b[38;5;66;03m# Reset internal state before fitting\u001b[39;00m\n\u001b[32m    906\u001b[39m \u001b[38;5;28mself\u001b[39m._reset()\n\u001b[32m--> \u001b[39m\u001b[32m907\u001b[39m \u001b[38;5;28;01mreturn\u001b[39;00m \u001b[38;5;28;43mself\u001b[39;49m\u001b[43m.\u001b[49m\u001b[43mpartial_fit\u001b[49m\u001b[43m(\u001b[49m\u001b[43mX\u001b[49m\u001b[43m,\u001b[49m\u001b[43m \u001b[49m\u001b[43my\u001b[49m\u001b[43m,\u001b[49m\u001b[43m \u001b[49m\u001b[43msample_weight\u001b[49m\u001b[43m)\u001b[49m\n",
      "\u001b[36mFile \u001b[39m\u001b[32m~/Desktop/country_data_dsf_project/venv/lib/python3.12/site-packages/sklearn/base.py:1365\u001b[39m, in \u001b[36m_fit_context.<locals>.decorator.<locals>.wrapper\u001b[39m\u001b[34m(estimator, *args, **kwargs)\u001b[39m\n\u001b[32m   1358\u001b[39m     estimator._validate_params()\n\u001b[32m   1360\u001b[39m \u001b[38;5;28;01mwith\u001b[39;00m config_context(\n\u001b[32m   1361\u001b[39m     skip_parameter_validation=(\n\u001b[32m   1362\u001b[39m         prefer_skip_nested_validation \u001b[38;5;129;01mor\u001b[39;00m global_skip_validation\n\u001b[32m   1363\u001b[39m     )\n\u001b[32m   1364\u001b[39m ):\n\u001b[32m-> \u001b[39m\u001b[32m1365\u001b[39m     \u001b[38;5;28;01mreturn\u001b[39;00m \u001b[43mfit_method\u001b[49m\u001b[43m(\u001b[49m\u001b[43mestimator\u001b[49m\u001b[43m,\u001b[49m\u001b[43m \u001b[49m\u001b[43m*\u001b[49m\u001b[43margs\u001b[49m\u001b[43m,\u001b[49m\u001b[43m \u001b[49m\u001b[43m*\u001b[49m\u001b[43m*\u001b[49m\u001b[43mkwargs\u001b[49m\u001b[43m)\u001b[49m\n",
      "\u001b[36mFile \u001b[39m\u001b[32m~/Desktop/country_data_dsf_project/venv/lib/python3.12/site-packages/sklearn/preprocessing/_data.py:943\u001b[39m, in \u001b[36mStandardScaler.partial_fit\u001b[39m\u001b[34m(self, X, y, sample_weight)\u001b[39m\n\u001b[32m    911\u001b[39m \u001b[38;5;250m\u001b[39m\u001b[33;03m\"\"\"Online computation of mean and std on X for later scaling.\u001b[39;00m\n\u001b[32m    912\u001b[39m \n\u001b[32m    913\u001b[39m \u001b[33;03mAll of X is processed as a single batch. This is intended for cases\u001b[39;00m\n\u001b[32m   (...)\u001b[39m\u001b[32m    940\u001b[39m \u001b[33;03m    Fitted scaler.\u001b[39;00m\n\u001b[32m    941\u001b[39m \u001b[33;03m\"\"\"\u001b[39;00m\n\u001b[32m    942\u001b[39m first_call = \u001b[38;5;129;01mnot\u001b[39;00m \u001b[38;5;28mhasattr\u001b[39m(\u001b[38;5;28mself\u001b[39m, \u001b[33m\"\u001b[39m\u001b[33mn_samples_seen_\u001b[39m\u001b[33m\"\u001b[39m)\n\u001b[32m--> \u001b[39m\u001b[32m943\u001b[39m X = \u001b[43mvalidate_data\u001b[49m\u001b[43m(\u001b[49m\n\u001b[32m    944\u001b[39m \u001b[43m    \u001b[49m\u001b[38;5;28;43mself\u001b[39;49m\u001b[43m,\u001b[49m\n\u001b[32m    945\u001b[39m \u001b[43m    \u001b[49m\u001b[43mX\u001b[49m\u001b[43m,\u001b[49m\n\u001b[32m    946\u001b[39m \u001b[43m    \u001b[49m\u001b[43maccept_sparse\u001b[49m\u001b[43m=\u001b[49m\u001b[43m(\u001b[49m\u001b[33;43m\"\u001b[39;49m\u001b[33;43mcsr\u001b[39;49m\u001b[33;43m\"\u001b[39;49m\u001b[43m,\u001b[49m\u001b[43m \u001b[49m\u001b[33;43m\"\u001b[39;49m\u001b[33;43mcsc\u001b[39;49m\u001b[33;43m\"\u001b[39;49m\u001b[43m)\u001b[49m\u001b[43m,\u001b[49m\n\u001b[32m    947\u001b[39m \u001b[43m    \u001b[49m\u001b[43mdtype\u001b[49m\u001b[43m=\u001b[49m\u001b[43mFLOAT_DTYPES\u001b[49m\u001b[43m,\u001b[49m\n\u001b[32m    948\u001b[39m \u001b[43m    \u001b[49m\u001b[43mensure_all_finite\u001b[49m\u001b[43m=\u001b[49m\u001b[33;43m\"\u001b[39;49m\u001b[33;43mallow-nan\u001b[39;49m\u001b[33;43m\"\u001b[39;49m\u001b[43m,\u001b[49m\n\u001b[32m    949\u001b[39m \u001b[43m    \u001b[49m\u001b[43mreset\u001b[49m\u001b[43m=\u001b[49m\u001b[43mfirst_call\u001b[49m\u001b[43m,\u001b[49m\n\u001b[32m    950\u001b[39m \u001b[43m\u001b[49m\u001b[43m)\u001b[49m\n\u001b[32m    951\u001b[39m n_features = X.shape[\u001b[32m1\u001b[39m]\n\u001b[32m    953\u001b[39m \u001b[38;5;28;01mif\u001b[39;00m sample_weight \u001b[38;5;129;01mis\u001b[39;00m \u001b[38;5;129;01mnot\u001b[39;00m \u001b[38;5;28;01mNone\u001b[39;00m:\n",
      "\u001b[36mFile \u001b[39m\u001b[32m~/Desktop/country_data_dsf_project/venv/lib/python3.12/site-packages/sklearn/utils/validation.py:2954\u001b[39m, in \u001b[36mvalidate_data\u001b[39m\u001b[34m(_estimator, X, y, reset, validate_separately, skip_check_array, **check_params)\u001b[39m\n\u001b[32m   2952\u001b[39m         out = X, y\n\u001b[32m   2953\u001b[39m \u001b[38;5;28;01melif\u001b[39;00m \u001b[38;5;129;01mnot\u001b[39;00m no_val_X \u001b[38;5;129;01mand\u001b[39;00m no_val_y:\n\u001b[32m-> \u001b[39m\u001b[32m2954\u001b[39m     out = \u001b[43mcheck_array\u001b[49m\u001b[43m(\u001b[49m\u001b[43mX\u001b[49m\u001b[43m,\u001b[49m\u001b[43m \u001b[49m\u001b[43minput_name\u001b[49m\u001b[43m=\u001b[49m\u001b[33;43m\"\u001b[39;49m\u001b[33;43mX\u001b[39;49m\u001b[33;43m\"\u001b[39;49m\u001b[43m,\u001b[49m\u001b[43m \u001b[49m\u001b[43m*\u001b[49m\u001b[43m*\u001b[49m\u001b[43mcheck_params\u001b[49m\u001b[43m)\u001b[49m\n\u001b[32m   2955\u001b[39m \u001b[38;5;28;01melif\u001b[39;00m no_val_X \u001b[38;5;129;01mand\u001b[39;00m \u001b[38;5;129;01mnot\u001b[39;00m no_val_y:\n\u001b[32m   2956\u001b[39m     out = _check_y(y, **check_params)\n",
      "\u001b[36mFile \u001b[39m\u001b[32m~/Desktop/country_data_dsf_project/venv/lib/python3.12/site-packages/sklearn/utils/validation.py:1053\u001b[39m, in \u001b[36mcheck_array\u001b[39m\u001b[34m(array, accept_sparse, accept_large_sparse, dtype, order, copy, force_writeable, force_all_finite, ensure_all_finite, ensure_non_negative, ensure_2d, allow_nd, ensure_min_samples, ensure_min_features, estimator, input_name)\u001b[39m\n\u001b[32m   1051\u001b[39m         array = xp.astype(array, dtype, copy=\u001b[38;5;28;01mFalse\u001b[39;00m)\n\u001b[32m   1052\u001b[39m     \u001b[38;5;28;01melse\u001b[39;00m:\n\u001b[32m-> \u001b[39m\u001b[32m1053\u001b[39m         array = \u001b[43m_asarray_with_order\u001b[49m\u001b[43m(\u001b[49m\u001b[43marray\u001b[49m\u001b[43m,\u001b[49m\u001b[43m \u001b[49m\u001b[43morder\u001b[49m\u001b[43m=\u001b[49m\u001b[43morder\u001b[49m\u001b[43m,\u001b[49m\u001b[43m \u001b[49m\u001b[43mdtype\u001b[49m\u001b[43m=\u001b[49m\u001b[43mdtype\u001b[49m\u001b[43m,\u001b[49m\u001b[43m \u001b[49m\u001b[43mxp\u001b[49m\u001b[43m=\u001b[49m\u001b[43mxp\u001b[49m\u001b[43m)\u001b[49m\n\u001b[32m   1054\u001b[39m \u001b[38;5;28;01mexcept\u001b[39;00m ComplexWarning \u001b[38;5;28;01mas\u001b[39;00m complex_warning:\n\u001b[32m   1055\u001b[39m     \u001b[38;5;28;01mraise\u001b[39;00m \u001b[38;5;167;01mValueError\u001b[39;00m(\n\u001b[32m   1056\u001b[39m         \u001b[33m\"\u001b[39m\u001b[33mComplex data not supported\u001b[39m\u001b[38;5;130;01m\\n\u001b[39;00m\u001b[38;5;132;01m{}\u001b[39;00m\u001b[38;5;130;01m\\n\u001b[39;00m\u001b[33m\"\u001b[39m.format(array)\n\u001b[32m   1057\u001b[39m     ) \u001b[38;5;28;01mfrom\u001b[39;00m\u001b[38;5;250m \u001b[39m\u001b[34;01mcomplex_warning\u001b[39;00m\n",
      "\u001b[36mFile \u001b[39m\u001b[32m~/Desktop/country_data_dsf_project/venv/lib/python3.12/site-packages/sklearn/utils/_array_api.py:757\u001b[39m, in \u001b[36m_asarray_with_order\u001b[39m\u001b[34m(array, dtype, order, copy, xp, device)\u001b[39m\n\u001b[32m    755\u001b[39m     array = numpy.array(array, order=order, dtype=dtype)\n\u001b[32m    756\u001b[39m \u001b[38;5;28;01melse\u001b[39;00m:\n\u001b[32m--> \u001b[39m\u001b[32m757\u001b[39m     array = \u001b[43mnumpy\u001b[49m\u001b[43m.\u001b[49m\u001b[43masarray\u001b[49m\u001b[43m(\u001b[49m\u001b[43marray\u001b[49m\u001b[43m,\u001b[49m\u001b[43m \u001b[49m\u001b[43morder\u001b[49m\u001b[43m=\u001b[49m\u001b[43morder\u001b[49m\u001b[43m,\u001b[49m\u001b[43m \u001b[49m\u001b[43mdtype\u001b[49m\u001b[43m=\u001b[49m\u001b[43mdtype\u001b[49m\u001b[43m)\u001b[49m\n\u001b[32m    759\u001b[39m \u001b[38;5;66;03m# At this point array is a NumPy ndarray. We convert it to an array\u001b[39;00m\n\u001b[32m    760\u001b[39m \u001b[38;5;66;03m# container that is consistent with the input's namespace.\u001b[39;00m\n\u001b[32m    761\u001b[39m \u001b[38;5;28;01mreturn\u001b[39;00m xp.asarray(array)\n",
      "\u001b[36mFile \u001b[39m\u001b[32m~/Desktop/country_data_dsf_project/venv/lib/python3.12/site-packages/pandas/core/indexes/base.py:924\u001b[39m, in \u001b[36mIndex.__array__\u001b[39m\u001b[34m(self, dtype, copy)\u001b[39m\n\u001b[32m    919\u001b[39m \u001b[38;5;250m\u001b[39m\u001b[33;03m\"\"\"\u001b[39;00m\n\u001b[32m    920\u001b[39m \u001b[33;03mThe array interface, return my values.\u001b[39;00m\n\u001b[32m    921\u001b[39m \u001b[33;03m\"\"\"\u001b[39;00m\n\u001b[32m    922\u001b[39m \u001b[38;5;28;01mif\u001b[39;00m copy \u001b[38;5;129;01mis\u001b[39;00m \u001b[38;5;28;01mNone\u001b[39;00m:\n\u001b[32m    923\u001b[39m     \u001b[38;5;66;03m# Note, that the if branch exists for NumPy 1.x support\u001b[39;00m\n\u001b[32m--> \u001b[39m\u001b[32m924\u001b[39m     \u001b[38;5;28;01mreturn\u001b[39;00m \u001b[43mnp\u001b[49m\u001b[43m.\u001b[49m\u001b[43masarray\u001b[49m\u001b[43m(\u001b[49m\u001b[38;5;28;43mself\u001b[39;49m\u001b[43m.\u001b[49m\u001b[43m_data\u001b[49m\u001b[43m,\u001b[49m\u001b[43m \u001b[49m\u001b[43mdtype\u001b[49m\u001b[43m=\u001b[49m\u001b[43mdtype\u001b[49m\u001b[43m)\u001b[49m\n\u001b[32m    926\u001b[39m \u001b[38;5;28;01mreturn\u001b[39;00m np.array(\u001b[38;5;28mself\u001b[39m._data, dtype=dtype, copy=copy)\n",
      "\u001b[31mValueError\u001b[39m: could not convert string to float: 'Year'"
     ]
    }
   ],
   "source": [
    "# Estandarizar los datos de df_pca\n",
    "scaler = StandardScaler()\n",
    "X_std = scaler.fit_transform(df_pca)\n",
    "\n",
    "print(\"Antes de estandarizar (primeras filas):\")\n",
    "display(df_pca.head())\n",
    "\n",
    "print(\"\\nDespués de estandarizar (primeras filas):\")\n",
    "print(X_std[:5])\n",
    "\n",
    "print(f\"\\nForma de los datos estandarizados: {X_std.shape}\")\n",
    "print(f\"Media de cada variable estandarizada: {X_std.mean(axis=0).round(3)}\")\n",
    "print(f\"Desviación estándar de cada variable estandarizada: {X_std.std(axis=0).round(3)}\")\n"
   ]
  },
  {
   "cell_type": "code",
   "execution_count": null,
   "id": "9e782698",
   "metadata": {},
   "outputs": [],
   "source": []
  },
  {
   "cell_type": "code",
   "execution_count": null,
   "id": "ba9b5f83",
   "metadata": {},
   "outputs": [],
   "source": []
  },
  {
   "cell_type": "code",
   "execution_count": null,
   "id": "3a3e2241",
   "metadata": {},
   "outputs": [],
   "source": []
  },
  {
   "cell_type": "code",
   "execution_count": 35,
   "id": "05b85979",
   "metadata": {},
   "outputs": [
    {
     "data": {
      "image/png": "[encoded data removed]",
      "text/plain": [
       "<Figure size 1000x700 with 1 Axes>"
      ]
     },
     "metadata": {},
     "output_type": "display_data"
    }
   ],
   "source": [
    "pca = PCA(None)\n",
    "X_pca = pca.fit_transform(X_std)\n",
    "var_exp = pca.explained_variance_ratio_\n",
    "\n",
    "\n",
    "background_color = \"#ffffff\"\n",
    "fig = plt.figure(figsize=(10,7), facecolor=background_color)\n",
    "plt.bar(range(1, len(var_exp)+1), var_exp, alpha=0.5, align='center')\n",
    "plt.ylabel('Varianza Explicada',  fontsize = 18)\n",
    "plt.xlabel('Componentes Principales', fontsize = 18)\n",
    "plt.title('Varianza Explicada vs Componentes Principales', fontsize = 25)\n",
    "plt.show()"
   ]
  },
  {
   "cell_type": "code",
   "execution_count": null,
   "id": "68d7ed1d",
   "metadata": {},
   "outputs": [],
   "source": []
  },
  {
   "cell_type": "code",
   "execution_count": null,
   "id": "5c263e20",
   "metadata": {},
   "outputs": [],
   "source": []
  },
  {
   "cell_type": "code",
   "execution_count": null,
   "id": "2530f91b",
   "metadata": {},
   "outputs": [],
   "source": []
  },
  {
   "cell_type": "code",
   "execution_count": null,
   "id": "4659ade6",
   "metadata": {},
   "outputs": [],
   "source": []
  }
 ],
 "metadata": {
  "kernelspec": {
   "display_name": "venv",
   "language": "python",
   "name": "python3"
  },
  "language_info": {
   "codemirror_mode": {
    "name": "ipython",
    "version": 3
   },
   "file_extension": ".py",
   "mimetype": "text/x-python",
   "name": "python",
   "nbconvert_exporter": "python",
   "pygments_lexer": "ipython3",
   "version": "3.12.3"
  }
 },
 "nbformat": 4,
 "nbformat_minor": 5
}
